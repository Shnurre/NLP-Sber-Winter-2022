{
 "cells": [
  {
   "cell_type": "markdown",
   "metadata": {},
   "source": [
    "# Pytorch\n",
    "Для более сложных моделей, например seq2seq, простого keras будет недостаточно. В основном, для этого используется PyTorch или Tensorflow. Здесь мы попытаемся разобрать основы работы с PyTorch. Для этого пройдемся по туториалам с официального сайта. Начнем с введения: https://pytorch.org/tutorials/beginner/blitz/tensor_tutorial.html#sphx-glr-beginner-blitz-tensor-tutorial-py    "
   ]
  },
  {
   "cell_type": "markdown",
   "metadata": {},
   "source": [
    "## Установка\n",
    "Если вам не нужна поддержка GPU или CUDA уже поставлена, то достаточно поставить с помощью команды, появляющейся после выбора соответвующией конфигурации: https://pytorch.org/get-started/locally/\n",
    "\n",
    "Если же у вас Windows, то работает этот туториал:https://medium.com/@jjc7ru/one-stop-shop-for-all-your-windows-10-anaconda-pytorch-gpu-cuda10-setup-ad732fad67f1\n",
    "\n",
    "С некоторыми модификациями:\n",
    "- сейчас актуальная версия CUDA 10.1 - выбираем везде её\n",
    "- При установке CUDA захочет Visual Studio, теоретически можно поставить и без неё, но лучше чтоб наверняка. С Visul Studio 2019 Community с установкой средств разработки для C++ все поставилось.\n",
    "\n",
    "На Ubuntu CUDA вроде ставится из терминала, основная проблема - поставить драйвера.\n",
    "\n",
    "Перейдем же наконец с самому PyTorch"
   ]
  },
  {
   "cell_type": "code",
   "execution_count": 2,
   "metadata": {},
   "outputs": [],
   "source": [
    "import torch"
   ]
  },
  {
   "cell_type": "markdown",
   "metadata": {},
   "source": [
    "## Тензоры\n",
    "Для начала расссмотрим операции над тензорами"
   ]
  },
  {
   "cell_type": "code",
   "execution_count": 3,
   "metadata": {},
   "outputs": [
    {
     "name": "stdout",
     "output_type": "stream",
     "text": [
      "tensor([[0., 0., 0.],\n",
      "        [0., 0., 0.],\n",
      "        [0., 0., 0.],\n",
      "        [0., 0., 0.],\n",
      "        [0., 0., 0.]])\n"
     ]
    }
   ],
   "source": [
    "# Пустая матрица 5 на 3\n",
    "x = torch.empty(5,3)\n",
    "print(x)"
   ]
  },
  {
   "cell_type": "code",
   "execution_count": 4,
   "metadata": {},
   "outputs": [
    {
     "name": "stdout",
     "output_type": "stream",
     "text": [
      "tensor([[0.4680, 0.8453, 0.2691],\n",
      "        [0.8798, 0.4070, 0.7234],\n",
      "        [0.4066, 0.0891, 0.0118],\n",
      "        [0.6461, 0.8565, 0.0144],\n",
      "        [0.2652, 0.2819, 0.8884]])\n"
     ]
    }
   ],
   "source": [
    "# Аналогично с рандомной инициализацией\n",
    "x = torch.rand(5, 3)\n",
    "print(x)"
   ]
  },
  {
   "cell_type": "code",
   "execution_count": 5,
   "metadata": {},
   "outputs": [
    {
     "name": "stdout",
     "output_type": "stream",
     "text": [
      "tensor([[0, 0, 0],\n",
      "        [0, 0, 0],\n",
      "        [0, 0, 0],\n",
      "        [0, 0, 0],\n",
      "        [0, 0, 0]])\n"
     ]
    }
   ],
   "source": [
    "# Заполненная нулями и укзаным типом\n",
    "x = torch.zeros(5, 3, dtype=torch.long)\n",
    "print(x)"
   ]
  },
  {
   "cell_type": "code",
   "execution_count": 6,
   "metadata": {},
   "outputs": [
    {
     "name": "stdout",
     "output_type": "stream",
     "text": [
      "tensor([5.5000, 3.0000])\n"
     ]
    }
   ],
   "source": [
    "# Также можно конструировать тензоры из питонячих списков\n",
    "x = torch.tensor([5.5, 3])\n",
    "print(x) # тут увидим, что тип приаедтся"
   ]
  },
  {
   "cell_type": "code",
   "execution_count": 7,
   "metadata": {},
   "outputs": [
    {
     "name": "stdout",
     "output_type": "stream",
     "text": [
      "tensor([[1., 1., 1.],\n",
      "        [1., 1., 1.],\n",
      "        [1., 1., 1.],\n",
      "        [1., 1., 1.],\n",
      "        [1., 1., 1.]], dtype=torch.float64)\n",
      "tensor([[ 0.2037,  0.2799,  0.5992],\n",
      "        [-0.2807, -0.6975,  1.4543],\n",
      "        [ 1.4688, -0.0732,  2.4971],\n",
      "        [-0.6484,  0.9008,  0.7525],\n",
      "        [ 0.2666, -0.0824,  0.5907]])\n"
     ]
    }
   ],
   "source": [
    "# Создание незоров, похожих на существуюшие \n",
    "x = x.new_ones(5, 3, dtype=torch.double)\n",
    "print(x)\n",
    "\n",
    "x = torch.randn_like(x, dtype=torch.float)\n",
    "print(x)"
   ]
  },
  {
   "cell_type": "markdown",
   "metadata": {},
   "source": [
    "Как мы видим инициализировать тензоры можно множеством способов и делается это вполне интуитивно."
   ]
  },
  {
   "cell_type": "markdown",
   "metadata": {},
   "source": [
    "## Операции\n",
    "С тензорами можно проводить различные операции, причем также множеством способов. "
   ]
  },
  {
   "cell_type": "code",
   "execution_count": 12,
   "metadata": {},
   "outputs": [
    {
     "name": "stdout",
     "output_type": "stream",
     "text": [
      "torch.Size([5, 3])\n",
      "tensor([[0.7198, 0.0970, 0.1268],\n",
      "        [0.8031, 0.9530, 0.3455],\n",
      "        [0.1249, 0.6479, 0.2940],\n",
      "        [0.3789, 0.2937, 0.2877],\n",
      "        [0.2403, 0.0742, 0.7361]])\n",
      "tensor(0.) tensor(0.) tensor(0.)\n",
      "tensor([[ 0.9235,  0.3769,  0.7259],\n",
      "        [ 0.5224,  0.2556,  1.7998],\n",
      "        [ 1.5937,  0.5747,  2.7910],\n",
      "        [-0.2695,  1.1945,  1.0402],\n",
      "        [ 0.5068, -0.0082,  1.3268]])\n",
      "tensor([ 0.3769,  0.2556,  0.5747,  1.1945, -0.0082])\n"
     ]
    }
   ],
   "source": [
    "# Получения размерностей\n",
    "print(x.size()) # можно взаимодействовать как с кортежем\n",
    "\n",
    "# сложение\n",
    "y = torch.rand(5,3)\n",
    "print(y)\n",
    "z1 = x + y\n",
    "z2 = torch.add(x,y)\n",
    "z3 = x.add(y)\n",
    "# Все эти записи идентичты\n",
    "print (torch.norm(z1- z2), torch.norm(z1 - z3), torch.norm(z2 -z3))\n",
    "\n",
    "# Также есть модификация in-place\n",
    "y.add_(x)\n",
    "print(y)\n",
    "\n",
    "# Ну и срезы тоже работают\n",
    "print(y[:,1])"
   ]
  },
  {
   "cell_type": "markdown",
   "metadata": {},
   "source": [
    "Одним из самых частых операций при работе с сетями являлется изменение размерностей тензоров. Для этого существует базовая операция `view`, а также `transpose` - для транспонирования (view для этого не подойдет), `squeeze` - для удаления фиктивных размерностей и `unsqueeze` для их добавления."
   ]
  },
  {
   "cell_type": "code",
   "execution_count": 13,
   "metadata": {},
   "outputs": [
    {
     "name": "stdout",
     "output_type": "stream",
     "text": [
      "torch.Size([4, 4]) torch.Size([16]) torch.Size([2, 8])\n"
     ]
    }
   ],
   "source": [
    "x = torch.randn(4, 4)\n",
    "y = x.view(16)\n",
    "z = x.view(-1, 8)  # в -1 перейдут оставшиейся размерности\n",
    "print(x.size(), y.size(), z.size())"
   ]
  },
  {
   "cell_type": "code",
   "execution_count": 15,
   "metadata": {},
   "outputs": [
    {
     "name": "stdout",
     "output_type": "stream",
     "text": [
      "tensor([[0.6340, 0.6689, 0.8315],\n",
      "        [0.8674, 0.0648, 0.8787]])\n",
      "tensor([[0.6340, 0.8674],\n",
      "        [0.6689, 0.0648],\n",
      "        [0.8315, 0.8787]])\n",
      "tensor([[1, 2, 3, 4]])\n",
      "tensor([[1],\n",
      "        [2],\n",
      "        [3],\n",
      "        [4]])\n",
      "tensor([1, 2, 3, 4])\n"
     ]
    }
   ],
   "source": [
    "x = torch.rand(2,3)\n",
    "print(x)\n",
    "print(x.transpose(0,1))\n",
    "\n",
    "x = torch.tensor([1, 2, 3, 4])\n",
    "print(torch.unsqueeze(x, 0))\n",
    "y = torch.unsqueeze(x, 1)\n",
    "print(y)\n",
    "print(y.squeeze())"
   ]
  },
  {
   "cell_type": "markdown",
   "metadata": {},
   "source": [
    "## Работа с NumPy\n",
    "В PyTorch предусмотрены методы для создания тензоров из таковых в numpy и наоборот, из-за чего не нужно сильно запариваться с подготовкой данных, если та была сделана на numpy и использовалась, например, в keras"
   ]
  },
  {
   "cell_type": "code",
   "execution_count": 17,
   "metadata": {},
   "outputs": [
    {
     "name": "stdout",
     "output_type": "stream",
     "text": [
      "tensor([1., 1., 1., 1., 1.])\n",
      "[1. 1. 1. 1. 1.]\n",
      "tensor([2., 2., 2., 2., 2.])\n",
      "[2. 2. 2. 2. 2.]\n"
     ]
    }
   ],
   "source": [
    "a = torch.ones(5)\n",
    "print(a)\n",
    "b = a.numpy()\n",
    "print(b)\n",
    "\n",
    "# также можно менять исходный тензор и тензор в numpy тоже изменится\n",
    "a.add_(1)\n",
    "print(a)\n",
    "print(b)"
   ]
  },
  {
   "cell_type": "code",
   "execution_count": 18,
   "metadata": {},
   "outputs": [
    {
     "name": "stdout",
     "output_type": "stream",
     "text": [
      "[2. 2. 2. 2. 2.]\n",
      "tensor([2., 2., 2., 2., 2.], dtype=torch.float64)\n"
     ]
    }
   ],
   "source": [
    "# теперь в обратную сторону\n",
    "import numpy as np\n",
    "a = np.ones(5)\n",
    "b = torch.from_numpy(a)\n",
    "np.add(a, 1, out=a)\n",
    "print(a)\n",
    "print(b)"
   ]
  },
  {
   "cell_type": "markdown",
   "metadata": {},
   "source": [
    "## CUDA Тензоры\n",
    "Тензоры могут быть перемещены с одного устройства на другое с помощью метода `to`"
   ]
  },
  {
   "cell_type": "code",
   "execution_count": 19,
   "metadata": {},
   "outputs": [
    {
     "name": "stdout",
     "output_type": "stream",
     "text": [
      "tensor([2, 3, 4, 5], device='cuda:0')\n",
      "tensor([2., 3., 4., 5.], dtype=torch.float64)\n"
     ]
    }
   ],
   "source": [
    "if torch.cuda.is_available(): # Проверяем что CUDA вообще есть\n",
    "    device = torch.device(\"cuda\")          # объявляем объект устройства\n",
    "    y = torch.ones_like(x, device=device)  # создаем тензор прям на GPU\n",
    "    x = x.to(device)                       # или переносим с помощью метода 'to'\n",
    "    z = x + y\n",
    "    print(z)\n",
    "    print(z.to(\"cpu\", torch.double))       # 'to' можнт также менять тип"
   ]
  }
 ],
 "metadata": {
  "kernelspec": {
   "display_name": "Python 3",
   "language": "python",
   "name": "python3"
  },
  "language_info": {
   "codemirror_mode": {
    "name": "ipython",
    "version": 3
   },
   "file_extension": ".py",
   "mimetype": "text/x-python",
   "name": "python",
   "nbconvert_exporter": "python",
   "pygments_lexer": "ipython3",
   "version": "3.7.3"
  }
 },
 "nbformat": 4,
 "nbformat_minor": 2
}
